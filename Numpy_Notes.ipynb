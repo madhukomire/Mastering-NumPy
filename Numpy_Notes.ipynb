{
 "cells": [
  {
   "cell_type": "markdown",
   "metadata": {},
   "source": [
    "<img src='https://th.bing.com/th/id/OIP.0mtPy_tJkhR2cw2LACoGBwHaEK?pid=ImgDet&rs=1'>"
   ]
  },
  {
   "cell_type": "code",
   "execution_count": null,
   "metadata": {
    "id": "aE_ZVV-8pUgT"
   },
   "outputs": [],
   "source": [
    "'''NumPy is a Python Library. It stands for 'Numerical Python'. \n",
    "It is a library consisting of multidimensional array objects.\n",
    "'''\n",
    "\n",
    "\n",
    " # Numpy vs List\n",
    "'''\n",
    "Python List:\n",
    "\n",
    "1.Able to store different data types in the same list.\n",
    "2.Storing each item in random location in the memory.\n",
    "3.Good for the scenario where list can grow dynamically.\n",
    "4.Inbuilt data type.\n",
    "5.It has more inbuilt functions.\n",
    "\n",
    "NumPy Array:\n",
    "\n",
    "1.Can store only one data type in an array at any time.\n",
    "2.Storing each item is sequential which makes array more effective in processing.\n",
    "3.Good for the scenario where the items are fixed size and same data time.\n",
    "4.Need to install external library NumPy.\n",
    "5.No extra functions, so it will not more memory store.\n",
    "'''\n",
    " \n",
    "\n",
    "\n"
   ]
  },
  {
   "cell_type": "markdown",
   "metadata": {},
   "source": [
    "<img src=\"https://res.cloudinary.com/hmqtkdlno/image/upload/v1592596177/utzc1ntfyu0modaxbzte.png\">"
   ]
  },
  {
   "cell_type": "markdown",
   "metadata": {},
   "source": [
    "<img src=\"https://predictivehacks.com/wp-content/uploads/2020/08/numpy_arrays.png\">"
   ]
  },
  {
   "cell_type": "code",
   "execution_count": 3,
   "metadata": {
    "id": "j3Cw1-V_pUgU"
   },
   "outputs": [
    {
     "name": "stdout",
     "output_type": "stream",
     "text": [
      "Requirement already satisfied: numpy in c:\\anaconda\\lib\\site-packages (1.26.4)\n"
     ]
    }
   ],
   "source": [
    "# for installing the numpy \n",
    "!pip install numpy\n",
    "\n",
    "#import numpy module with alias np\n",
    "import numpy as np"
   ]
  },
  {
   "cell_type": "code",
   "execution_count": 5,
   "metadata": {
    "id": "5uECrRrspUgV"
   },
   "outputs": [],
   "source": [
    "# Define a numpy array passing a list with  1,2 and 3 as elements in it\n",
    "a = np.array([1,2,3,4,'a'])"
   ]
  },
  {
   "cell_type": "code",
   "execution_count": 7,
   "metadata": {
    "colab": {
     "base_uri": "https://localhost:8080/"
    },
    "id": "vypw7Ws2pUgW",
    "outputId": "122a4717-2415-4ab6-e860-ca95ab607d75"
   },
   "outputs": [
    {
     "data": {
      "text/plain": [
       "array(['1', '2', '3', '4', 'a'], dtype='<U11')"
      ]
     },
     "execution_count": 7,
     "metadata": {},
     "output_type": "execute_result"
    }
   ],
   "source": [
    "# print a\n",
    "a"
   ]
  },
  {
   "cell_type": "markdown",
   "metadata": {
    "id": "wBghhb57pUgX"
   },
   "source": [
    "## Dimensions in Arrays\n",
    "\n",
    "\n",
    "Numpy array can be of n dimentions\n",
    "\n",
    "Lets create arrays of different dimentions.\n",
    "\n",
    "a=A numpy array with one single integer 10\n",
    "\n",
    "b=A numpy array passing a list having a list= [1,2,3]\n",
    "\n",
    "c=A numpy array passing nested list having [[1, 2, 3], [4, 5, 6]] as elements\n",
    "\n",
    "d=A numpy array passing nested list having [[[1, 2, 3], [4, 5, 6]], [[1, 2, 3], [4, 5, 6]]] as elements\n",
    "\n",
    "<p style='text-align: right;'> 3 points </p>\n"
   ]
  },
  {
   "cell_type": "code",
   "execution_count": null,
   "metadata": {
    "id": "RcoGDTf6pUgX"
   },
   "outputs": [],
   "source": [
    "#define a,b,c and d as instructed above\n",
    "\n",
    "a = np.array(10)\n",
    "b = np.array([1,2,3])\n",
    "c = np.array([[1, 2, 3], [4, 5, 6]])\n",
    "d = np.array([[[1, 2, 3], [4, 5, 6]], [[1, 2, 3], [4, 5, 6]]])"
   ]
  },
  {
   "cell_type": "markdown",
   "metadata": {
    "id": "y6ZAlfYfpUgX"
   },
   "source": [
    "Are you ready to check its dimension? Use ndim attribute on each variable to check its dimension"
   ]
  },
  {
   "cell_type": "code",
   "execution_count": null,
   "metadata": {
    "colab": {
     "base_uri": "https://localhost:8080/"
    },
    "id": "UWeTZu8JpUgY",
    "outputId": "65049cb1-ce20-4ab1-a8fb-48675399d76d"
   },
   "outputs": [],
   "source": [
    "#print dimentions of a,b, c and d\n",
    "print('a dimension:', a.ndim)\n",
    "print('b dimension:', b.ndim)\n",
    "print('c dimension:', c.ndim)\n",
    "print('d dimension:', d.ndim)"
   ]
  },
  {
   "cell_type": "markdown",
   "metadata": {
    "id": "IATgFHFSpUgY"
   },
   "source": [
    "\n",
    "\n",
    "Lets print there shape as well. You can check shape using shape attribute\n",
    "\n"
   ]
  },
  {
   "cell_type": "code",
   "execution_count": null,
   "metadata": {
    "colab": {
     "base_uri": "https://localhost:8080/"
    },
    "id": "1AK1WqGHpUgY",
    "outputId": "137190b7-9e8f-4e63-944a-a960e38b7bff",
    "scrolled": true
   },
   "outputs": [],
   "source": [
    "# print shape of each a,b ,c and d\n",
    "print(a)\n",
    "print('shape of a:', a.shape)\n",
    "print(b)\n",
    "print('shape of b:', b.shape)\n",
    "print(c)\n",
    "print('shape of c:', c.shape)\n",
    "print(d)\n",
    "print('shape of d:', d.shape)"
   ]
  },
  {
   "cell_type": "markdown",
   "metadata": {
    "id": "PolNnru7pUgZ"
   },
   "source": [
    "Lets check data type passed in our array. To check data type you can use dtype attribute"
   ]
  },
  {
   "cell_type": "code",
   "execution_count": null,
   "metadata": {
    "colab": {
     "base_uri": "https://localhost:8080/"
    },
    "id": "HRAV01pvpUgZ",
    "outputId": "a903ec7d-6fba-49ae-fbf8-93fe377cf45c"
   },
   "outputs": [],
   "source": [
    "# print data type of c and d\n",
    "print(c.dtype)\n",
    "print(d.dtype)"
   ]
  },
  {
   "cell_type": "markdown",
   "metadata": {
    "id": "B4QK_kbcpUgZ"
   },
   "source": [
    "Lets check the type of our variable. To check type of any numpy variable use type() function "
   ]
  },
  {
   "cell_type": "code",
   "execution_count": null,
   "metadata": {
    "colab": {
     "base_uri": "https://localhost:8080/"
    },
    "id": "Cltd7mN3pUga",
    "outputId": "6c0f0f29-b2d4-4227-9e81-90d2093c9222"
   },
   "outputs": [],
   "source": [
    "#print type of a and b variable\n",
    "print(type(a))\n",
    "print(type(b))"
   ]
  },
  {
   "cell_type": "code",
   "execution_count": null,
   "metadata": {
    "colab": {
     "base_uri": "https://localhost:8080/"
    },
    "id": "ojqYqZXRpUga",
    "outputId": "031521d3-c648-4236-be21-22c1c7c25f83"
   },
   "outputs": [],
   "source": [
    "# Lets check length of array b, using len() function\n",
    "len(d)"
   ]
  },
  {
   "cell_type": "markdown",
   "metadata": {
    "id": "rNYIuG9ppUgc"
   },
   "source": [
    "### Creating Numpy array\n",
    "\n",
    "\n",
    "There are multiple ways to create numpy array. Lets walk over them\n",
    "\n",
    "1. Using arrange() function <br>\n",
    "<p style='text-align: right;'> 8 points </p>\n"
   ]
  },
  {
   "cell_type": "code",
   "execution_count": null,
   "metadata": {
    "colab": {
     "base_uri": "https://localhost:8080/"
    },
    "id": "pP3i9Y39pUgc",
    "outputId": "7e7effed-d93f-4d17-f9c9-4eb4a4f66e31"
   },
   "outputs": [],
   "source": [
    "#Create a numpy array using arange with 1 and 11 as parameter in it\n",
    "np.arange(1, 11)"
   ]
  },
  {
   "cell_type": "code",
   "execution_count": null,
   "metadata": {
    "colab": {
     "base_uri": "https://localhost:8080/"
    },
    "id": "SnMJC7QdpUgd",
    "outputId": "ce393adb-6674-49c2-d74d-e78462b4e155"
   },
   "outputs": [],
   "source": [
    "# Create an array using arange passing 1,11 and 2 as parameters\n",
    "np.arange(1,11,2)"
   ]
  },
  {
   "cell_type": "markdown",
   "metadata": {
    "id": "U8GxGR9SpUgd"
   },
   "source": [
    "\n",
    "\n",
    "2. Using eye Function <br>\n"
   ]
  },
  {
   "cell_type": "code",
   "execution_count": null,
   "metadata": {
    "colab": {
     "base_uri": "https://localhost:8080/"
    },
    "id": "_X_EtKfwpUgd",
    "outputId": "122ff457-3632-4566-af4f-ca50534e2e1d"
   },
   "outputs": [],
   "source": [
    "# create numpy array using eye function with 3 as passed parameter\n",
    "np.eye(2, dtype = float) "
   ]
  },
  {
   "cell_type": "markdown",
   "metadata": {
    "id": "TJGLYyYdpUge"
   },
   "source": [
    "Wohoo! eye return a 2-D array with ones on the diagonal and zeros elsewhere.\n",
    "\n",
    "3. Using zero function<br>\n"
   ]
  },
  {
   "cell_type": "code",
   "execution_count": null,
   "metadata": {
    "colab": {
     "base_uri": "https://localhost:8080/"
    },
    "id": "OetpPBkepUge",
    "outputId": "a37e1783-0978-4a0e-b4db-7597c101bc9c"
   },
   "outputs": [],
   "source": [
    "#create a numpy array using zero function with (3,2) as passed parameter takes default float\n",
    "np.zeros((3, 5),dtype='int') # default float"
   ]
  },
  {
   "cell_type": "markdown",
   "metadata": {
    "id": "EkDfGHN0pUge"
   },
   "source": [
    "Zero function returns a new array of given shape and type, filled with zeros.\n",
    "\n",
    "4. Using ones Function <br>\n"
   ]
  },
  {
   "cell_type": "code",
   "execution_count": null,
   "metadata": {
    "colab": {
     "base_uri": "https://localhost:8080/"
    },
    "id": "ez61wpaWpUgf",
    "outputId": "3c02f99d-d685-4052-f7ce-72fd5ff2850f"
   },
   "outputs": [],
   "source": [
    "#create a numpy array using ones function with (3,2) as passed parameter\n",
    "np.ones((3, 2))"
   ]
  },
  {
   "cell_type": "markdown",
   "metadata": {
    "id": "hNc3ACCbpUgf"
   },
   "source": [
    "You noticed! ones function returns a new array of given shape and type, filled with ones.\n",
    "\n",
    "5. Using full Function<br>\n"
   ]
  },
  {
   "cell_type": "code",
   "execution_count": null,
   "metadata": {
    "colab": {
     "base_uri": "https://localhost:8080/"
    },
    "id": "V1LMVwYmpUgf",
    "outputId": "1d357d2c-58cd-460f-f84b-2452e08192f3"
   },
   "outputs": [],
   "source": [
    "#create a numpy array using full function with (3,2) and 2 as passed parameter\n",
    "np.full((2, 3), 111,dtype=int)"
   ]
  },
  {
   "cell_type": "markdown",
   "metadata": {},
   "source": [
    "<img src=\"https://backtobazics.com/wp-content/uploads/2018/08/numpy-eye-full-methods.jpg\">"
   ]
  },
  {
   "cell_type": "markdown",
   "metadata": {
    "id": "1vxGNDfQpUgf"
   },
   "source": [
    "\n",
    "\n",
    "6. Using diag function<br>\n"
   ]
  },
  {
   "cell_type": "code",
   "execution_count": null,
   "metadata": {
    "colab": {
     "base_uri": "https://localhost:8080/"
    },
    "id": "aNrXaN4kpUgf",
    "outputId": "6b4e5886-0e6e-449b-a3ca-7956ed429579"
   },
   "outputs": [],
   "source": [
    "#create a numpy array using diag function passing a list [1,2,3,4,5]\n",
    "x = [1,2,3,4,5,6,7]\n",
    "np.diag(x)"
   ]
  },
  {
   "cell_type": "markdown",
   "metadata": {
    "id": "FQDAhMLqpUgi"
   },
   "source": [
    "\n",
    "\n",
    "## Numpy Reshape\n",
    "\n",
    "\n",
    "\n",
    "Reshaping means changing the shape of an array.\n",
    "The shape of an array is the number of elements in each dimension.\n",
    "By reshaping we can add or remove dimensions or change number of elements in each dimension.\n",
    "\n",
    "<p style='text-align: right;'> 6 points </p>\n"
   ]
  },
  {
   "cell_type": "markdown",
   "metadata": {},
   "source": [
    "<img src=\"https://backtobazics.com/wp-content/uploads/2018/08/numpy-reshape-examples.jpg\">"
   ]
  },
  {
   "cell_type": "code",
   "execution_count": 9,
   "metadata": {
    "id": "1Mkntnq8pUgj",
    "scrolled": true
   },
   "outputs": [
    {
     "name": "stdout",
     "output_type": "stream",
     "text": [
      "[ 1  2  3  4  5  6  7  8  9 10 11 12 13 14 15 16]\n",
      "(16,)\n",
      "1\n"
     ]
    }
   ],
   "source": [
    "# Using arange() to generate numpy array x with numbers between 1 to 16\n",
    "x = np.arange(1, 17)\n",
    "print(x)\n",
    "print(x.shape)\n",
    "print(x.ndim)"
   ]
  },
  {
   "cell_type": "code",
   "execution_count": 11,
   "metadata": {
    "colab": {
     "base_uri": "https://localhost:8080/"
    },
    "id": "IiFs0khIpUgk",
    "outputId": "ba78f034-5ebc-4e6b-ce09-148af3883756",
    "scrolled": true
   },
   "outputs": [
    {
     "name": "stdout",
     "output_type": "stream",
     "text": [
      "[[ 1  2]\n",
      " [ 3  4]\n",
      " [ 5  6]\n",
      " [ 7  8]\n",
      " [ 9 10]\n",
      " [11 12]\n",
      " [13 14]\n",
      " [15 16]]\n",
      "(8, 2)\n",
      "2\n"
     ]
    }
   ],
   "source": [
    "# Reshape x with 2 rows and 8 columns\n",
    "n=x.reshape((8,2)) # 1d\n",
    "print(n)\n",
    "print(n.shape)\n",
    "print(n.ndim)"
   ]
  },
  {
   "cell_type": "code",
   "execution_count": 13,
   "metadata": {},
   "outputs": [
    {
     "name": "stdout",
     "output_type": "stream",
     "text": [
      "[[[ 1  2]\n",
      "  [ 3  4]]\n",
      "\n",
      " [[ 5  6]\n",
      "  [ 7  8]]\n",
      "\n",
      " [[ 9 10]\n",
      "  [11 12]]\n",
      "\n",
      " [[13 14]\n",
      "  [15 16]]]\n",
      "(4, 2, 2)\n",
      "3\n"
     ]
    }
   ],
   "source": [
    "n1=n.reshape((4,2,2))\n",
    "print(n1)\n",
    "print(n1.shape)\n",
    "print(n1.ndim)"
   ]
  },
  {
   "cell_type": "code",
   "execution_count": 15,
   "metadata": {},
   "outputs": [
    {
     "name": "stdout",
     "output_type": "stream",
     "text": [
      "(16,)\n",
      "[ 1  2  3  4  5  6  7  8  9 10 11 12 13 14 15 16]\n",
      "1\n"
     ]
    }
   ],
   "source": [
    "# convert to old dimension\n",
    "v=n.ravel()\n",
    "print(v.shape)\n",
    "print(v)\n",
    "print(v.ndim)"
   ]
  },
  {
   "cell_type": "markdown",
   "metadata": {},
   "source": [
    "<img src=\"https://www.w3resource.com/w3r_images/numpy-manipulation-ravel-function-image-1.png\">"
   ]
  },
  {
   "cell_type": "code",
   "execution_count": null,
   "metadata": {
    "colab": {
     "base_uri": "https://localhost:8080/"
    },
    "id": "QYTZwSSLpUgk",
    "outputId": "1846d041-89de-46c9-8d93-4d9af62c90ab"
   },
   "outputs": [],
   "source": [
    "# reshape x with dimension that will have 2 arrays that contains 4 arrays, each with 2 elements:\n",
    "print(x)\n",
    "x.reshape((2,8))"
   ]
  },
  {
   "cell_type": "markdown",
   "metadata": {},
   "source": [
    "<img src=\"https://www.w3resource.com/w3r_images/numpy-manipulation-ndarray-flatten-function-image-1.png\">"
   ]
  },
  {
   "cell_type": "markdown",
   "metadata": {
    "id": "BvP_nOjLpUgm"
   },
   "source": [
    "## NumPy Array Indexing\n",
    "\n",
    "\n",
    "Array indexing is the same as accessing an array element. You can access an array element by referring to its index number.\n",
    "\n",
    "The indexes in NumPy arrays start with 0, meaning that the first element has index 0, and the second has index 1 etc.\n",
    "\n",
    "<p style='text-align: right;'> 4 points </p>\n"
   ]
  },
  {
   "cell_type": "code",
   "execution_count": null,
   "metadata": {
    "colab": {
     "base_uri": "https://localhost:8080/"
    },
    "id": "gwipaekHpUgm",
    "outputId": "5232a869-685d-49ca-b5c3-368b9de52995"
   },
   "outputs": [],
   "source": [
    "# Flattening x convert array into one dimensional\n",
    "x.flatten()"
   ]
  },
  {
   "cell_type": "code",
   "execution_count": 17,
   "metadata": {
    "colab": {
     "base_uri": "https://localhost:8080/"
    },
    "id": "FGxHe9bgpUgm",
    "outputId": "7f0d1ca5-caf3-424e-d5b5-7e9f79112dad"
   },
   "outputs": [
    {
     "data": {
      "text/plain": [
       "array([ 2,  4,  6,  8, 10, 12, 14, 16])"
      ]
     },
     "execution_count": 17,
     "metadata": {},
     "output_type": "execute_result"
    }
   ],
   "source": [
    "# Create an array a with all even numbers between 1 to 17\n",
    "a = np.arange(2,17,2)\n",
    "\n",
    "# print a\n",
    "a"
   ]
  },
  {
   "cell_type": "code",
   "execution_count": 19,
   "metadata": {
    "colab": {
     "base_uri": "https://localhost:8080/"
    },
    "id": "SCi5EO46pUgm",
    "outputId": "331c5321-b8b3-4f7b-c7d7-b648522f0511"
   },
   "outputs": [
    {
     "data": {
      "text/plain": [
       "6"
      ]
     },
     "execution_count": 19,
     "metadata": {},
     "output_type": "execute_result"
    }
   ],
   "source": [
    "# Get third element in array a\n",
    "a[2]"
   ]
  },
  {
   "cell_type": "code",
   "execution_count": null,
   "metadata": {
    "colab": {
     "base_uri": "https://localhost:8080/"
    },
    "id": "P7c9eCL-pUgm",
    "outputId": "75a4be12-dd22-4372-a20a-e4f7b8af2759"
   },
   "outputs": [],
   "source": [
    "#Print 3rd, 5th, and 7th element in array a\n",
    "a[0:7:2]"
   ]
  },
  {
   "cell_type": "markdown",
   "metadata": {
    "id": "MdxjJvLEpUgn"
   },
   "source": [
    "Lets check the same for 2 D array"
   ]
  },
  {
   "cell_type": "code",
   "execution_count": null,
   "metadata": {
    "colab": {
     "base_uri": "https://localhost:8080/"
    },
    "id": "R3xi9KcdpUgn",
    "outputId": "51068f0f-b9a0-487b-ed19-99e67feb9d53"
   },
   "outputs": [],
   "source": [
    "# Define an array 2-D a with [[1,2,3],[4,5,6],[7,8,9]] as its elements.\n",
    "a = np.array([[1,2,3],[4,5,6],[7,8,9]])\n",
    "a"
   ]
  },
  {
   "cell_type": "code",
   "execution_count": null,
   "metadata": {
    "colab": {
     "base_uri": "https://localhost:8080/"
    },
    "id": "tSOlo9TlpUgn",
    "outputId": "bfb9878f-37d2-4557-bc33-68d9c7ebfe35"
   },
   "outputs": [],
   "source": [
    "# print the 3rd element from the 3rd row of a\n",
    "a[2,2]"
   ]
  },
  {
   "cell_type": "markdown",
   "metadata": {},
   "source": [
    "<img src=\"https://qph.fs.quoracdn.net/main-qimg-82a0721a240faf8b7aa563492f4ccadf\">"
   ]
  },
  {
   "cell_type": "code",
   "execution_count": 21,
   "metadata": {
    "colab": {
     "base_uri": "https://localhost:8080/"
    },
    "id": "G3LFerQEpUgn",
    "outputId": "3da94ca0-56ce-4a06-9bf4-92c88133d492"
   },
   "outputs": [
    {
     "data": {
      "text/plain": [
       "array([[[ 1,  2,  3],\n",
       "        [ 4,  5,  6]],\n",
       "\n",
       "       [[ 7,  8,  9],\n",
       "        [10, 11, 12]]])"
      ]
     },
     "execution_count": 21,
     "metadata": {},
     "output_type": "execute_result"
    }
   ],
   "source": [
    "# Define an array b again with [[[1, 2, 3], [4, 5, 6]], [[7, 8, 9], [10, 11, 12]]] as its elements.\n",
    "b = np.array([[[1, 2, 3], [4, 5, 6]], [[7, 8, 9], [10, 11, 12]]])\n",
    "b.shape\n",
    "b"
   ]
  },
  {
   "cell_type": "code",
   "execution_count": 23,
   "metadata": {
    "colab": {
     "base_uri": "https://localhost:8080/"
    },
    "id": "_TlenkdYpUgo",
    "outputId": "9ca6f80a-5a1f-43d9-bc42-28d833cb7682"
   },
   "outputs": [
    {
     "data": {
      "text/plain": [
       "12"
      ]
     },
     "execution_count": 23,
     "metadata": {},
     "output_type": "execute_result"
    }
   ],
   "source": [
    "# Print 3rd element from 2nd list which is 1st list in nested list passed. Confusing right? 'a' have nested array.Understand the braket differences.\n",
    "b[1][1][2]"
   ]
  },
  {
   "cell_type": "markdown",
   "metadata": {
    "id": "zHPXTcaGpUgo"
   },
   "source": [
    "Great job! \n",
    "So now you have learned how to to indexing on various dimentions of numpy array.\n",
    "\n",
    "## NumPy Array Slicing\n",
    "\n",
    "Slicing in python means taking elements from one given index to another given index.\n",
    "\n",
    "    1. We pass slice instead of index like this: [start:end].\n",
    "    2. We can also define the step, like this: [start:end:step].\n",
    "    3. If we don't pass start its considered 0\n",
    "    4. If we don't pass end its considered length of array in that dimension\n",
    "    5. If we don't pass step its considered 1\n",
    "    \n",
    "<p style='text-align: right;'> 5 points </p>\n",
    "\n",
    "    \n",
    "1. **Array slicing in 1-D array.**"
   ]
  },
  {
   "cell_type": "code",
   "execution_count": null,
   "metadata": {
    "colab": {
     "base_uri": "https://localhost:8080/"
    },
    "id": "ZlW3oJERpUgo",
    "outputId": "6ac09311-df64-4941-9508-7d44fa2c74da"
   },
   "outputs": [],
   "source": [
    "arr=np.arange(1,11)\n",
    "arr"
   ]
  },
  {
   "cell_type": "code",
   "execution_count": null,
   "metadata": {
    "colab": {
     "base_uri": "https://localhost:8080/"
    },
    "id": "x7nAaX0PpUgo",
    "outputId": "4658dd20-f03d-4176-b9b4-b7d808e67ddf"
   },
   "outputs": [],
   "source": [
    "# Slice elements from 1st to 5th element from array arr:\n",
    "arr[0:5]\n"
   ]
  },
  {
   "cell_type": "code",
   "execution_count": null,
   "metadata": {
    "colab": {
     "base_uri": "https://localhost:8080/"
    },
    "id": "9cI9SZ2zpUgp",
    "outputId": "ea66f988-830e-4ea4-c934-c41d8865a5f6"
   },
   "outputs": [],
   "source": [
    "# Slice elements from index 5 to the end of the array arr:\n",
    "arr[5:]"
   ]
  },
  {
   "cell_type": "code",
   "execution_count": null,
   "metadata": {
    "colab": {
     "base_uri": "https://localhost:8080/"
    },
    "id": "9HdaV4VipUgp",
    "outputId": "f559a296-67e2-4898-89ff-41fac113f188"
   },
   "outputs": [],
   "source": [
    "# Slice elements from the beginning to index 5 (not included) in array arr:\n",
    "arr[0:5]"
   ]
  },
  {
   "cell_type": "code",
   "execution_count": null,
   "metadata": {
    "colab": {
     "base_uri": "https://localhost:8080/"
    },
    "id": "5Es4pZqtpUgq",
    "outputId": "89af5bfa-2093-4825-806f-4603d62f7fdc"
   },
   "outputs": [],
   "source": [
    "# Print every other element from index 1 to index 7:\n",
    "arr[1:7:2]"
   ]
  },
  {
   "cell_type": "code",
   "execution_count": null,
   "metadata": {
    "colab": {
     "base_uri": "https://localhost:8080/"
    },
    "id": "6eGz2psmpUgq",
    "outputId": "33418d1f-ce38-4dbe-f232-f6ebc4a373e8"
   },
   "outputs": [],
   "source": [
    "# Return every other element from the entire array arr:\n",
    "arr[0:10:2]"
   ]
  },
  {
   "cell_type": "code",
   "execution_count": null,
   "metadata": {
    "colab": {
     "base_uri": "https://localhost:8080/"
    },
    "id": "Xc5hgEmppUgt",
    "outputId": "7695f1c8-7b3a-4249-d3a5-c574b6b6c953"
   },
   "outputs": [],
   "source": [
    "# Print array a\n",
    "a"
   ]
  },
  {
   "cell_type": "code",
   "execution_count": null,
   "metadata": {
    "colab": {
     "base_uri": "https://localhost:8080/"
    },
    "id": "W_9L7ERopUgt",
    "outputId": "023dfeda-f98a-44da-c65e-2c3a300a4295"
   },
   "outputs": [],
   "source": [
    "# In array 'a' print index 2 from all the rows :\n",
    "arr[2]"
   ]
  },
  {
   "cell_type": "code",
   "execution_count": null,
   "metadata": {
    "colab": {
     "base_uri": "https://localhost:8080/"
    },
    "id": "oGjup_crpUgt",
    "outputId": "b4e5b5bf-07c5-40d4-c70e-41a1acac5fe7"
   },
   "outputs": [],
   "source": [
    "# From all the elements in 'a', slice index 1 till end, this will return a 2-D array:\n",
    "a[0:,1:]"
   ]
  },
  {
   "cell_type": "markdown",
   "metadata": {
    "id": "FZSBKSVPpUgt"
   },
   "source": [
    "Hurray! You have learned Slicing in Numpy array. Now you know to access any numpy array."
   ]
  },
  {
   "cell_type": "markdown",
   "metadata": {
    "id": "uao-weGjpUgu"
   },
   "source": [
    "## Numpy copy vs view\n",
    "\n",
    "\n",
    "\n",
    "<p style='text-align: right;'> 7 points </p>\n"
   ]
  },
  {
   "cell_type": "code",
   "execution_count": 25,
   "metadata": {
    "id": "dEv5ubMxpUgu"
   },
   "outputs": [
    {
     "data": {
      "text/plain": [
       "array([0, 1, 2, 3, 4, 5, 6, 7, 8, 9])"
      ]
     },
     "execution_count": 25,
     "metadata": {},
     "output_type": "execute_result"
    }
   ],
   "source": [
    "x1= np.arange(10)\n",
    "x1"
   ]
  },
  {
   "cell_type": "code",
   "execution_count": 29,
   "metadata": {
    "id": "Xk5usKzCpUgu"
   },
   "outputs": [],
   "source": [
    "# assign x2 = x1\n",
    "x2 = x1 # view "
   ]
  },
  {
   "cell_type": "code",
   "execution_count": 31,
   "metadata": {
    "colab": {
     "base_uri": "https://localhost:8080/"
    },
    "id": "ri7jAYUapUgu",
    "outputId": "6dbe9f8c-46c9-4d32-9fd5-14225f57c6fc"
   },
   "outputs": [
    {
     "name": "stdout",
     "output_type": "stream",
     "text": [
      "[0 1 2 3 4 5 6 7 8 9]\n",
      "[0 1 2 3 4 5 6 7 8 9]\n"
     ]
    }
   ],
   "source": [
    "#print x1 and x2\n",
    "print(x1)\n",
    "print(x2)"
   ]
  },
  {
   "cell_type": "markdown",
   "metadata": {
    "id": "lp4CGHPwpUgu"
   },
   "source": [
    "Ok now you have seen that both of them are same "
   ]
  },
  {
   "cell_type": "code",
   "execution_count": null,
   "metadata": {
    "id": "tIU0PVJ9pUgv"
   },
   "outputs": [],
   "source": [
    "# change 1st element of x2 as 10\n",
    "x2[0] = 10"
   ]
  },
  {
   "cell_type": "code",
   "execution_count": null,
   "metadata": {
    "colab": {
     "base_uri": "https://localhost:8080/"
    },
    "id": "hq_sAUKWpUgv",
    "outputId": "b7d25ebb-1ad2-4d90-b51e-6341c9f20eec"
   },
   "outputs": [],
   "source": [
    "#Again print x1 and x2\n",
    "print(x1)\n",
    "print(x2)"
   ]
  },
  {
   "cell_type": "code",
   "execution_count": 33,
   "metadata": {},
   "outputs": [
    {
     "name": "stdout",
     "output_type": "stream",
     "text": [
      "2463409680720\n",
      "2463409680720\n"
     ]
    }
   ],
   "source": [
    "print(id(x1))\n",
    "print(id(x2))"
   ]
  },
  {
   "cell_type": "markdown",
   "metadata": {
    "id": "ajn1h8yBpUgv"
   },
   "source": [
    "Wait a minute. Just check your above result on change of x2, x1 also got changed. Why?\n",
    "\n",
    "Lets check if both the variables shares memory. Use numpy shares_memory() function to check if both x1 and x2 shares a  memory.\n"
   ]
  },
  {
   "cell_type": "code",
   "execution_count": 35,
   "metadata": {
    "colab": {
     "base_uri": "https://localhost:8080/"
    },
    "id": "J2e6zSsrpUgv",
    "outputId": "14c2a9ec-7627-41f1-c20e-74154f8d45f2",
    "scrolled": true
   },
   "outputs": [
    {
     "name": "stdout",
     "output_type": "stream",
     "text": [
      "True\n",
      "2463409680720\n",
      "2463409680720\n"
     ]
    }
   ],
   "source": [
    "# Check memory share between x1 and x2\n",
    "print(np.shares_memory(x1, x2))\n",
    "print(id(x1))\n",
    "print(id(x2))"
   ]
  },
  {
   "cell_type": "markdown",
   "metadata": {
    "id": "hJNRRe9tpUgv"
   },
   "source": [
    "Hey It's True they both share memory\n",
    "\n",
    "Shall we try **view()** function also likwise."
   ]
  },
  {
   "cell_type": "code",
   "execution_count": 43,
   "metadata": {
    "id": "rdr-nyLIpUgv"
   },
   "outputs": [],
   "source": [
    "# Create a view of x1 and store it in x3.\n",
    "x3 = x1.view()"
   ]
  },
  {
   "cell_type": "code",
   "execution_count": 41,
   "metadata": {
    "colab": {
     "base_uri": "https://localhost:8080/"
    },
    "id": "m1gcRuFOpUgw",
    "outputId": "b3c8d891-f1a7-403a-e6b4-3d0334874e1c"
   },
   "outputs": [
    {
     "data": {
      "text/plain": [
       "True"
      ]
     },
     "execution_count": 41,
     "metadata": {},
     "output_type": "execute_result"
    }
   ],
   "source": [
    "# Again check memory share between x1 and x3\n",
    "np.shares_memory(x1, x3)"
   ]
  },
  {
   "cell_type": "code",
   "execution_count": null,
   "metadata": {
    "id": "Gk6ZcPNppUgw"
   },
   "outputs": [],
   "source": [
    "#Change 1st element of x3=100\n",
    "x3[0] = 100"
   ]
  },
  {
   "cell_type": "code",
   "execution_count": null,
   "metadata": {
    "colab": {
     "base_uri": "https://localhost:8080/"
    },
    "id": "9VdTBJJSpUgw",
    "outputId": "c4eaf30b-f9e1-46f1-bcac-f031250a51d0"
   },
   "outputs": [],
   "source": [
    "#print x1 and x3 to check if changes reflected in both\n",
    "print(x1)\n",
    "print(x3)"
   ]
  },
  {
   "cell_type": "markdown",
   "metadata": {
    "id": "xx802J9QpUgw"
   },
   "source": [
    "Now its proved.\n",
    "\n",
    "Lets see how **Copy()** function works"
   ]
  },
  {
   "cell_type": "code",
   "execution_count": null,
   "metadata": {
    "id": "cvurR9WYpUgw"
   },
   "outputs": [],
   "source": [
    "# Now create an array x4 which is copy of x1\n",
    "\n",
    "x4 = np.copy(x1)"
   ]
  },
  {
   "cell_type": "code",
   "execution_count": null,
   "metadata": {
    "id": "gDsPJDNipUgx"
   },
   "outputs": [],
   "source": [
    "# Change the last element of x4 as 900\n",
    "x4[-1] = 900"
   ]
  },
  {
   "cell_type": "code",
   "execution_count": 57,
   "metadata": {
    "colab": {
     "base_uri": "https://localhost:8080/"
    },
    "id": "I1E_TA6vpUgx",
    "outputId": "f83d5364-3d54-4f66-cf93-ee6733844aba"
   },
   "outputs": [
    {
     "name": "stdout",
     "output_type": "stream",
     "text": [
      "[0 1 2 3 4 5 6 7 8 9]\n"
     ]
    },
    {
     "ename": "NameError",
     "evalue": "name 'x4' is not defined",
     "output_type": "error",
     "traceback": [
      "\u001b[1;31m---------------------------------------------------------------------------\u001b[0m",
      "\u001b[1;31mNameError\u001b[0m                                 Traceback (most recent call last)",
      "Cell \u001b[1;32mIn[57], line 3\u001b[0m\n\u001b[0;32m      1\u001b[0m \u001b[38;5;66;03m# print both x1 and x4 to check if changes reflected in both\u001b[39;00m\n\u001b[0;32m      2\u001b[0m \u001b[38;5;28mprint\u001b[39m(x1)\n\u001b[1;32m----> 3\u001b[0m \u001b[38;5;28mprint\u001b[39m(x4)\n",
      "\u001b[1;31mNameError\u001b[0m: name 'x4' is not defined"
     ]
    }
   ],
   "source": [
    "# print both x1 and x4 to check if changes reflected in both\n",
    "print(x1)\n",
    "print(x4)"
   ]
  },
  {
   "cell_type": "markdown",
   "metadata": {
    "id": "MNG2-xxnpUgx"
   },
   "source": [
    "Hey! such an intresting output. You noticed buddy! your original array didn't get changed on change of its copy ie. x4.\n",
    "\n"
   ]
  },
  {
   "cell_type": "code",
   "execution_count": null,
   "metadata": {
    "colab": {
     "base_uri": "https://localhost:8080/"
    },
    "id": "K1CjRA5gpUgy",
    "outputId": "07dbcbae-3642-4f53-9315-e1ada03d5a69"
   },
   "outputs": [],
   "source": [
    "#Check memory share between x1 and x4\n",
    "print(id(x1))\n",
    "print(id(x4))\n",
    "np.shares_memory(x1, x4)"
   ]
  },
  {
   "cell_type": "markdown",
   "metadata": {
    "id": "K3JOHmTXpUgy"
   },
   "source": [
    "You see! x1 and x4 don't share its memory. \n",
    "\n",
    "So with all our outputs we can takeaway few points:\n",
    "\n",
    "    1. The main difference between a copy and a view of an array is that the copy is a new array, and the view is just a view of the original array.\n",
    "\n",
    "    2. The copy owns the data and any changes made to the copy will not affect original array, and any changes made to the original array will not affect the copy.\n",
    "\n",
    "    3. The view does not own the data and any changes made to the view will affect the original array, and any changes made to the original array will affect the view."
   ]
  },
  {
   "cell_type": "markdown",
   "metadata": {
    "id": "NlKfYkYIpUgy"
   },
   "source": [
    "## More operations on Numpy\n",
    "\n",
    "**1. Applying conditions**\n",
    "\n",
    "\n",
    "\n",
    "<p style='text-align: right;'> 5 points </p>\n"
   ]
  },
  {
   "cell_type": "code",
   "execution_count": null,
   "metadata": {
    "colab": {
     "base_uri": "https://localhost:8080/"
    },
    "id": "fOPtQB-spUgz",
    "outputId": "d293ca09-5606-4b60-b9b9-a8bfb6dbd6b8"
   },
   "outputs": [],
   "source": [
    "#print a\n",
    "a"
   ]
  },
  {
   "cell_type": "markdown",
   "metadata": {
    "id": "so-bjJGZpUgz"
   },
   "source": [
    "We are going to use 'a' array for all our array condition operations.\n"
   ]
  },
  {
   "cell_type": "code",
   "execution_count": 45,
   "metadata": {
    "colab": {
     "base_uri": "https://localhost:8080/"
    },
    "id": "4pY2GPH-pUgz",
    "outputId": "af8ef686-7ca9-4ec4-f0c4-e64051e9124e"
   },
   "outputs": [
    {
     "data": {
      "text/plain": [
       "array([False,  True,  True,  True,  True,  True,  True,  True])"
      ]
     },
     "execution_count": 45,
     "metadata": {},
     "output_type": "execute_result"
    }
   ],
   "source": [
    "# Check if every element in array a greater than 3 or not Using '>' notation\n",
    "a > 3\n"
   ]
  },
  {
   "cell_type": "code",
   "execution_count": 47,
   "metadata": {
    "colab": {
     "base_uri": "https://localhost:8080/"
    },
    "id": "h7x4MsNwpUgz",
    "outputId": "a04b14fb-d2c9-44a4-83f5-d23ba0987c6f"
   },
   "outputs": [
    {
     "data": {
      "text/plain": [
       "array([ 4,  6,  8, 10, 12, 14, 16])"
      ]
     },
     "execution_count": 47,
     "metadata": {},
     "output_type": "execute_result"
    }
   ],
   "source": [
    "# Get a list with all elements of array 'a' grater than 3\n",
    "a[a > 3]"
   ]
  },
  {
   "cell_type": "code",
   "execution_count": 49,
   "metadata": {
    "colab": {
     "base_uri": "https://localhost:8080/"
    },
    "id": "2nuF5q8fpUgz",
    "outputId": "9446732f-09ff-4aa1-b8cb-3d5495488967"
   },
   "outputs": [
    {
     "data": {
      "text/plain": [
       "array([4])"
      ]
     },
     "execution_count": 49,
     "metadata": {},
     "output_type": "execute_result"
    }
   ],
   "source": [
    "# Get a list with all elements of array 'a' greater than 3 but less than 6\n",
    "a[(a > 3) & (a < 6)]"
   ]
  },
  {
   "cell_type": "code",
   "execution_count": 51,
   "metadata": {
    "colab": {
     "base_uri": "https://localhost:8080/"
    },
    "id": "os-GyNAipUg0",
    "outputId": "ee6f9666-3198-4f6f-adbe-5252497e6b2e"
   },
   "outputs": [
    {
     "ename": "NameError",
     "evalue": "name 'x4' is not defined",
     "output_type": "error",
     "traceback": [
      "\u001b[1;31m---------------------------------------------------------------------------\u001b[0m",
      "\u001b[1;31mNameError\u001b[0m                                 Traceback (most recent call last)",
      "Cell \u001b[1;32mIn[51], line 2\u001b[0m\n\u001b[0;32m      1\u001b[0m \u001b[38;5;66;03m# check if each elements in array 'x1' equals array 'x4' using '==' notation\u001b[39;00m\n\u001b[1;32m----> 2\u001b[0m x1 \u001b[38;5;241m==\u001b[39m x4\n",
      "\u001b[1;31mNameError\u001b[0m: name 'x4' is not defined"
     ]
    }
   ],
   "source": [
    "# check if each elements in array 'x1' equals array 'x4' using '==' notation\n",
    "x1 == x4\n",
    "# print(x1)\n",
    "# print(x4)"
   ]
  },
  {
   "cell_type": "markdown",
   "metadata": {
    "id": "vqTpa41jpUg0"
   },
   "source": [
    "You can see in above output that the last element is not same in both x1 and x4\n",
    "\n",
    "Well done so far.\n",
    "\n",
    "Lets check how to transpose an array\n",
    "\n",
    "**2. Transposing array**\n"
   ]
  },
  {
   "cell_type": "code",
   "execution_count": 53,
   "metadata": {
    "colab": {
     "base_uri": "https://localhost:8080/"
    },
    "id": "mP0_dCUxpUg0",
    "outputId": "0d7802b6-96cf-45d8-8f77-fdfd394473c4"
   },
   "outputs": [
    {
     "name": "stdout",
     "output_type": "stream",
     "text": [
      "[ 2  4  6  8 10 12 14 16]\n",
      "-----------------\n",
      "[ 2  4  6  8 10 12 14 16]\n"
     ]
    }
   ],
   "source": [
    "# Print Transpose of array 'a'\n",
    "print(a.transpose())\n",
    "#print array 'a'\n",
    "print(\"-----------------\")\n",
    "print(a) "
   ]
  },
  {
   "cell_type": "markdown",
   "metadata": {
    "id": "WpOBWNoppUg0"
   },
   "source": [
    "In above output all the rows became columns by transposing "
   ]
  },
  {
   "cell_type": "markdown",
   "metadata": {
    "id": "8puKXbJwpUg0"
   },
   "source": [
    "**3. hstack vs vstack function**\n",
    "\n",
    "\n",
    "\n",
    "Stacking is same as concatenation, the only difference is that stacking is done along a new axis.\n",
    "\n",
    "NumPy provides a helper function: \n",
    "\n",
    "1. hstack() to stack along rows.\n",
    "2. vstack()  to stack along columns\n"
   ]
  },
  {
   "cell_type": "markdown",
   "metadata": {},
   "source": [
    "<img src=\"https://images4.pianshen.com/908/91/91b34f7c4a78a2e22d6b7ba0a7186584.png\">"
   ]
  },
  {
   "cell_type": "code",
   "execution_count": 55,
   "metadata": {
    "colab": {
     "base_uri": "https://localhost:8080/"
    },
    "id": "DOE-0gTwpUg1",
    "outputId": "fd0ccb74-f5d8-4ac1-95e6-e129936944c8"
   },
   "outputs": [
    {
     "name": "stdout",
     "output_type": "stream",
     "text": [
      "[0 1 2 3 4 5 6 7 8 9]\n"
     ]
    },
    {
     "ename": "NameError",
     "evalue": "name 'x4' is not defined",
     "output_type": "error",
     "traceback": [
      "\u001b[1;31m---------------------------------------------------------------------------\u001b[0m",
      "\u001b[1;31mNameError\u001b[0m                                 Traceback (most recent call last)",
      "Cell \u001b[1;32mIn[55], line 3\u001b[0m\n\u001b[0;32m      1\u001b[0m \u001b[38;5;66;03m# stack x1 and x4 along columns.\u001b[39;00m\n\u001b[0;32m      2\u001b[0m \u001b[38;5;28mprint\u001b[39m(x1)\n\u001b[1;32m----> 3\u001b[0m \u001b[38;5;28mprint\u001b[39m(x4)\n\u001b[0;32m      4\u001b[0m np\u001b[38;5;241m.\u001b[39mvstack((x1, x4))\n",
      "\u001b[1;31mNameError\u001b[0m: name 'x4' is not defined"
     ]
    }
   ],
   "source": [
    "# stack x1 and x4 along columns.\n",
    "print(x1)\n",
    "print(x4)\n",
    "np.vstack((x1, x4))"
   ]
  },
  {
   "cell_type": "code",
   "execution_count": 59,
   "metadata": {
    "colab": {
     "base_uri": "https://localhost:8080/"
    },
    "id": "V2bNzfrkpUg1",
    "outputId": "1c54184e-8962-46d6-a19a-8debc71b5bd5",
    "scrolled": true
   },
   "outputs": [
    {
     "ename": "NameError",
     "evalue": "name 'x4' is not defined",
     "output_type": "error",
     "traceback": [
      "\u001b[1;31m---------------------------------------------------------------------------\u001b[0m",
      "\u001b[1;31mNameError\u001b[0m                                 Traceback (most recent call last)",
      "Cell \u001b[1;32mIn[59], line 2\u001b[0m\n\u001b[0;32m      1\u001b[0m \u001b[38;5;66;03m#stack x1 and x4 along rows\u001b[39;00m\n\u001b[1;32m----> 2\u001b[0m np\u001b[38;5;241m.\u001b[39mhstack((x1, x4))\n",
      "\u001b[1;31mNameError\u001b[0m: name 'x4' is not defined"
     ]
    }
   ],
   "source": [
    "#stack x1 and x4 along rows\n",
    "np.hstack((x1, x4))"
   ]
  },
  {
   "cell_type": "markdown",
   "metadata": {
    "id": "qqhpdM01pUg2"
   },
   "source": [
    "## Adding, Insert and delete Numpy array\n",
    "\n",
    "\n",
    "<p style='text-align: right;'> 3 points </p>\n"
   ]
  },
  {
   "cell_type": "markdown",
   "metadata": {
    "id": "OPXhLAR-pUg2"
   },
   "source": [
    "Lets use insert() function which Inserts values into array before specified index value"
   ]
  },
  {
   "cell_type": "code",
   "execution_count": null,
   "metadata": {
    "colab": {
     "base_uri": "https://localhost:8080/"
    },
    "id": "Ptc8f_BapUg2",
    "outputId": "afe43c29-e58f-4fbd-cab2-f42b064d235b"
   },
   "outputs": [],
   "source": [
    "# Inserts values into array x1 before index 4 with elements of x4\n",
    "print(x1)\n",
    "print(x4)\n",
    "np.insert(x1, 4, x4)"
   ]
  },
  {
   "cell_type": "markdown",
   "metadata": {
    "id": "REUCmBvzpUg2"
   },
   "source": [
    "You can see in above output we have inserted all the elements of x4 before index 4 in array x1."
   ]
  },
  {
   "cell_type": "code",
   "execution_count": null,
   "metadata": {
    "colab": {
     "base_uri": "https://localhost:8080/"
    },
    "id": "xKRx-b0JpUg3",
    "outputId": "87e0f926-7f1e-470d-ae9e-6cefb2fec5c1"
   },
   "outputs": [],
   "source": [
    "# delete 2nd element from array x2\n",
    "print(x2)\n",
    "np.delete(x2, 0)"
   ]
  },
  {
   "cell_type": "markdown",
   "metadata": {
    "id": "d33aIsHmpUg3"
   },
   "source": [
    "Did you see? 2 value is deleted from x2 which was at index position 2"
   ]
  },
  {
   "cell_type": "markdown",
   "metadata": {
    "id": "qDKKKCjppUg3"
   },
   "source": [
    "## Mathmatical operations on Numpy array\n",
    "\n",
    "\n",
    "\n",
    "<p style='text-align: right;'> 8 points </p>\n"
   ]
  },
  {
   "cell_type": "code",
   "execution_count": null,
   "metadata": {
    "id": "O7foeULTpUg3"
   },
   "outputs": [],
   "source": [
    "#defining a\n",
    "import numpy as np\n",
    "a= np.array([[1,2,3],[4,5,6],[7,8,9]])"
   ]
  },
  {
   "cell_type": "code",
   "execution_count": null,
   "metadata": {
    "colab": {
     "base_uri": "https://localhost:8080/"
    },
    "id": "LMWlqmDypUg3",
    "outputId": "114c018a-c644-4387-ad3e-563287b261e9"
   },
   "outputs": [],
   "source": [
    "# print trigonometric sin value of each element of a\n",
    "np.sin(a)"
   ]
  },
  {
   "cell_type": "code",
   "execution_count": null,
   "metadata": {},
   "outputs": [],
   "source": [
    "(np.sin(a))/(np.cos(a))"
   ]
  },
  {
   "cell_type": "code",
   "execution_count": null,
   "metadata": {
    "colab": {
     "base_uri": "https://localhost:8080/"
    },
    "id": "9bSn6dZApUg3",
    "outputId": "5aaa12aa-bd27-44be-ab64-cf07d9d28306"
   },
   "outputs": [],
   "source": [
    "# print trigonometric cos value of each element of a\n",
    "print(np.cos(a))\n",
    "print(np.tan(a))"
   ]
  },
  {
   "cell_type": "code",
   "execution_count": null,
   "metadata": {
    "colab": {
     "base_uri": "https://localhost:8080/"
    },
    "id": "E4bfMU4ipUg4",
    "outputId": "86b65224-1124-43f2-aefb-b5ce51244437"
   },
   "outputs": [],
   "source": [
    "# Print exponential value of each elements of a\n",
    "np.exp(a)"
   ]
  },
  {
   "cell_type": "code",
   "execution_count": null,
   "metadata": {
    "colab": {
     "base_uri": "https://localhost:8080/"
    },
    "id": "QRSyMRmzpUg4",
    "outputId": "7850336f-b4f4-4034-e5f6-2024834c4dea"
   },
   "outputs": [],
   "source": [
    "# print total sum of elements of a\n",
    "np.sum(a)"
   ]
  },
  {
   "cell_type": "code",
   "execution_count": 61,
   "metadata": {
    "colab": {
     "base_uri": "https://localhost:8080/"
    },
    "id": "d1mFBqXVpUg4",
    "outputId": "b38b3123-ef8c-4010-822a-699dfefa82ec"
   },
   "outputs": [
    {
     "ename": "AxisError",
     "evalue": "axis 1 is out of bounds for array of dimension 1",
     "output_type": "error",
     "traceback": [
      "\u001b[1;31m---------------------------------------------------------------------------\u001b[0m",
      "\u001b[1;31mAxisError\u001b[0m                                 Traceback (most recent call last)",
      "Cell \u001b[1;32mIn[61], line 2\u001b[0m\n\u001b[0;32m      1\u001b[0m \u001b[38;5;66;03m# Print sum in array a column wise\u001b[39;00m\n\u001b[1;32m----> 2\u001b[0m np\u001b[38;5;241m.\u001b[39msum(a, axis\u001b[38;5;241m=\u001b[39m\u001b[38;5;241m1\u001b[39m)\n",
      "File \u001b[1;32mC:\\Anaconda\\Lib\\site-packages\\numpy\\core\\fromnumeric.py:2313\u001b[0m, in \u001b[0;36msum\u001b[1;34m(a, axis, dtype, out, keepdims, initial, where)\u001b[0m\n\u001b[0;32m   2310\u001b[0m         \u001b[38;5;28;01mreturn\u001b[39;00m out\n\u001b[0;32m   2311\u001b[0m     \u001b[38;5;28;01mreturn\u001b[39;00m res\n\u001b[1;32m-> 2313\u001b[0m \u001b[38;5;28;01mreturn\u001b[39;00m _wrapreduction(a, np\u001b[38;5;241m.\u001b[39madd, \u001b[38;5;124m'\u001b[39m\u001b[38;5;124msum\u001b[39m\u001b[38;5;124m'\u001b[39m, axis, dtype, out, keepdims\u001b[38;5;241m=\u001b[39mkeepdims,\n\u001b[0;32m   2314\u001b[0m                       initial\u001b[38;5;241m=\u001b[39minitial, where\u001b[38;5;241m=\u001b[39mwhere)\n",
      "File \u001b[1;32mC:\\Anaconda\\Lib\\site-packages\\numpy\\core\\fromnumeric.py:88\u001b[0m, in \u001b[0;36m_wrapreduction\u001b[1;34m(obj, ufunc, method, axis, dtype, out, **kwargs)\u001b[0m\n\u001b[0;32m     85\u001b[0m         \u001b[38;5;28;01melse\u001b[39;00m:\n\u001b[0;32m     86\u001b[0m             \u001b[38;5;28;01mreturn\u001b[39;00m reduction(axis\u001b[38;5;241m=\u001b[39maxis, out\u001b[38;5;241m=\u001b[39mout, \u001b[38;5;241m*\u001b[39m\u001b[38;5;241m*\u001b[39mpasskwargs)\n\u001b[1;32m---> 88\u001b[0m \u001b[38;5;28;01mreturn\u001b[39;00m ufunc\u001b[38;5;241m.\u001b[39mreduce(obj, axis, dtype, out, \u001b[38;5;241m*\u001b[39m\u001b[38;5;241m*\u001b[39mpasskwargs)\n",
      "\u001b[1;31mAxisError\u001b[0m: axis 1 is out of bounds for array of dimension 1"
     ]
    }
   ],
   "source": [
    "# Print sum in array a column wise\n",
    "np.sum(a, axis=1)"
   ]
  },
  {
   "cell_type": "code",
   "execution_count": null,
   "metadata": {
    "colab": {
     "base_uri": "https://localhost:8080/"
    },
    "id": "4Cx--WYVpUg4",
    "outputId": "0cba05ff-ff93-49e7-c151-4b7d6a9ef233"
   },
   "outputs": [],
   "source": [
    "# Print sum in array a row wise\n",
    "np.sum(a, axis=0)"
   ]
  },
  {
   "cell_type": "markdown",
   "metadata": {},
   "source": [
    "<img src=\"https://th.bing.com/th/id/R.9230ced1c11e813fb069ddcac6566fdf?rik=C1ohvKa4zik%2b4w&riu=http%3a%2f%2flh5.ggpht.com%2f-1oz5Rz51kmo%2fU_xUcCLo4KI%2fAAAAAAAAB1g%2fyzk9KPcJ-NM%2fmeasures%25252520of%25252520central%25252520tendency_thumb%2525255B13%2525255D.gif%3fimgmax%3d800&ehk=%2bBH1cRV14pqT3nEfMTOkYImdkFZDlqR6fFJ1eM%2bKAcw%3d&risl=&pid=ImgRaw&r=0\">"
   ]
  },
  {
   "cell_type": "code",
   "execution_count": null,
   "metadata": {
    "colab": {
     "base_uri": "https://localhost:8080/"
    },
    "id": "ZpttxTHppUg5",
    "outputId": "7f7e2bca-83b4-4e98-ad94-60aa4f094be3"
   },
   "outputs": [],
   "source": [
    "# print median of array a\n",
    "np.median(a)"
   ]
  },
  {
   "cell_type": "code",
   "execution_count": null,
   "metadata": {},
   "outputs": [],
   "source": [
    "# print mean of array a\n",
    "np.mean(a)\n"
   ]
  },
  {
   "cell_type": "markdown",
   "metadata": {},
   "source": [
    "<img src=\"https://th.bing.com/th/id/R.a2c52d7062fa0de9d9df6032b7e0da75?rik=ptW1AfWGEGJi%2fQ&riu=http%3a%2f%2fimage.slideserve.com%2f274561%2fformula-for-standard-deviation-l.jpg&ehk=VClOXZLFkcG6HPqdc7rRMwWSMjYJ2T%2fGN1A8smQgV5Q%3d&risl=&pid=ImgRaw&r=0\">"
   ]
  },
  {
   "cell_type": "code",
   "execution_count": null,
   "metadata": {
    "colab": {
     "base_uri": "https://localhost:8080/"
    },
    "id": "u-EKr6VMpUg5",
    "outputId": "c7de0368-1f99-4327-dc7e-caef003c035a"
   },
   "outputs": [],
   "source": [
    "# print standard deviation of array a\n",
    "np.std(a)"
   ]
  },
  {
   "cell_type": "code",
   "execution_count": null,
   "metadata": {
    "colab": {
     "base_uri": "https://localhost:8080/"
    },
    "id": "KDSwMgUQpUg7",
    "outputId": "318e014a-afda-4bc3-f888-3324b62b2b3b"
   },
   "outputs": [],
   "source": [
    "#print largest element present in array a\n",
    "np.max(a)"
   ]
  },
  {
   "cell_type": "code",
   "execution_count": null,
   "metadata": {
    "colab": {
     "base_uri": "https://localhost:8080/"
    },
    "id": "NcN6sQIVpUg8",
    "outputId": "bfc609d3-0b86-450d-cdb3-d671358cfddd"
   },
   "outputs": [],
   "source": [
    "# print sorted x4 array\n",
    "np.sort(x4)"
   ]
  },
  {
   "cell_type": "markdown",
   "metadata": {
    "id": "af81CRz-pUg8"
   },
   "source": [
    "## Searching Arrays\n",
    "\n",
    "You can search an array for a certain value, and return the indexes that get a match.\n",
    "\n",
    "To search an array, use the where() method.\n",
    "\n",
    "<p style='text-align: right;'> 4 points </p>\n"
   ]
  },
  {
   "cell_type": "code",
   "execution_count": null,
   "metadata": {
    "colab": {
     "base_uri": "https://localhost:8080/"
    },
    "id": "RDWxyTF6pUg9",
    "outputId": "1507f208-93f5-4fd1-99c3-071f444e9385"
   },
   "outputs": [],
   "source": [
    "# print the indexes where the value is 4 in array x1\n",
    "\n",
    "m=np.where(x1 == 4)\n",
    "m"
   ]
  },
  {
   "cell_type": "code",
   "execution_count": null,
   "metadata": {
    "colab": {
     "base_uri": "https://localhost:8080/"
    },
    "id": "nPY8DKHTpUg9",
    "outputId": "44b00ca9-901e-4f2c-e926-651b454ad790"
   },
   "outputs": [],
   "source": [
    "#print array x1\n",
    "x1"
   ]
  },
  {
   "cell_type": "code",
   "execution_count": null,
   "metadata": {},
   "outputs": [],
   "source": [
    "c=np.array([44,55,66,88,99,12,12,12,12,12,10,10,10,101,0])"
   ]
  },
  {
   "cell_type": "code",
   "execution_count": null,
   "metadata": {
    "colab": {
     "base_uri": "https://localhost:8080/"
    },
    "id": "atfURRUtpUg9",
    "outputId": "f7dc8414-92bb-4e86-ff59-a7153bfc90a0"
   },
   "outputs": [],
   "source": [
    "# Print the indexes where the values are even in array x1\n",
    "np.where(c%2 == 0)\n"
   ]
  },
  {
   "cell_type": "code",
   "execution_count": null,
   "metadata": {
    "colab": {
     "base_uri": "https://localhost:8080/"
    },
    "id": "fPIY6xLlpUg9",
    "outputId": "364c0c00-c4e2-4834-9cb9-f1ac3b3822be"
   },
   "outputs": [],
   "source": [
    "# Print x1 where x1 is greater than 5, also if number is less than 5 then replace it with 0\n",
    "\n",
    "np.where(x1>5, x1, 0)"
   ]
  },
  {
   "cell_type": "code",
   "execution_count": null,
   "metadata": {},
   "outputs": [],
   "source": []
  },
  {
   "cell_type": "code",
   "execution_count": 63,
   "metadata": {},
   "outputs": [
    {
     "name": "stdout",
     "output_type": "stream",
     "text": [
      "['__add__', '__class__', '__class_getitem__', '__contains__', '__delattr__', '__delitem__', '__dir__', '__doc__', '__eq__', '__format__', '__ge__', '__getattribute__', '__getitem__', '__getstate__', '__gt__', '__hash__', '__iadd__', '__imul__', '__init__', '__init_subclass__', '__iter__', '__le__', '__len__', '__lt__', '__mul__', '__ne__', '__new__', '__reduce__', '__reduce_ex__', '__repr__', '__reversed__', '__rmul__', '__setattr__', '__setitem__', '__sizeof__', '__str__', '__subclasshook__', 'append', 'clear', 'copy', 'count', 'extend', 'index', 'insert', 'pop', 'remove', 'reverse', 'sort']\n"
     ]
    }
   ],
   "source": [
    "print(dir(list))"
   ]
  },
  {
   "cell_type": "code",
   "execution_count": 65,
   "metadata": {},
   "outputs": [
    {
     "name": "stdout",
     "output_type": "stream",
     "text": [
      "['__and__', '__class__', '__class_getitem__', '__contains__', '__delattr__', '__dir__', '__doc__', '__eq__', '__format__', '__ge__', '__getattribute__', '__getstate__', '__gt__', '__hash__', '__iand__', '__init__', '__init_subclass__', '__ior__', '__isub__', '__iter__', '__ixor__', '__le__', '__len__', '__lt__', '__ne__', '__new__', '__or__', '__rand__', '__reduce__', '__reduce_ex__', '__repr__', '__ror__', '__rsub__', '__rxor__', '__setattr__', '__sizeof__', '__str__', '__sub__', '__subclasshook__', '__xor__', 'add', 'clear', 'copy', 'difference', 'difference_update', 'discard', 'intersection', 'intersection_update', 'isdisjoint', 'issubset', 'issuperset', 'pop', 'remove', 'symmetric_difference', 'symmetric_difference_update', 'union', 'update']\n"
     ]
    }
   ],
   "source": [
    "print(dir(set))"
   ]
  },
  {
   "cell_type": "code",
   "execution_count": null,
   "metadata": {},
   "outputs": [],
   "source": []
  },
  {
   "cell_type": "code",
   "execution_count": null,
   "metadata": {},
   "outputs": [],
   "source": []
  },
  {
   "cell_type": "code",
   "execution_count": null,
   "metadata": {},
   "outputs": [],
   "source": []
  },
  {
   "cell_type": "code",
   "execution_count": null,
   "metadata": {},
   "outputs": [],
   "source": []
  }
 ],
 "metadata": {
  "colab": {
   "collapsed_sections": [],
   "include_colab_link": true,
   "name": "4_Numpy_CloudyML.ipynb",
   "provenance": []
  },
  "kernelspec": {
   "display_name": "Python [conda env:base] *",
   "language": "python",
   "name": "conda-base-py"
  },
  "language_info": {
   "codemirror_mode": {
    "name": "ipython",
    "version": 3
   },
   "file_extension": ".py",
   "mimetype": "text/x-python",
   "name": "python",
   "nbconvert_exporter": "python",
   "pygments_lexer": "ipython3",
   "version": "3.12.7"
  }
 },
 "nbformat": 4,
 "nbformat_minor": 4
}
